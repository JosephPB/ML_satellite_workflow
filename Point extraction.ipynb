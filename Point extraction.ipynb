{
 "cells": [
  {
   "cell_type": "markdown",
   "metadata": {},
   "source": [
    "# Pixel location of points"
   ]
  },
  {
   "cell_type": "markdown",
   "metadata": {},
   "source": [
    "When dealing with point data in a shapefile, you may want to find the relative pixel locations of the points to the overall raster files. This can be done using `ogr` and the `gdal` library"
   ]
  },
  {
   "cell_type": "code",
   "execution_count": 4,
   "metadata": {},
   "outputs": [],
   "source": [
    "from osgeo import gdal,ogr\n",
    "import matplotlib.pyplot as plt\n",
    "import numpy as np\n",
    "import geopandas as gpd"
   ]
  },
  {
   "cell_type": "code",
   "execution_count": 5,
   "metadata": {},
   "outputs": [],
   "source": [
    "shp = '/efs/data/2018-02-27/settlements/doro/shapefiles/structures.shp'\n",
    "raster = '/efs/data/2018-02-27/settlements/doro/rasterfiles/doro.tif'"
   ]
  },
  {
   "cell_type": "markdown",
   "metadata": {},
   "source": [
    "## Initial overview"
   ]
  },
  {
   "cell_type": "markdown",
   "metadata": {},
   "source": [
    "First, gain an overview of the shapefile information. A fast, visually appealing way to do this is to use `geopandas`"
   ]
  },
  {
   "cell_type": "code",
   "execution_count": 6,
   "metadata": {},
   "outputs": [],
   "source": [
    "gdf = gpd.read_file(shp)"
   ]
  },
  {
   "cell_type": "code",
   "execution_count": 7,
   "metadata": {},
   "outputs": [
    {
     "data": {
      "text/html": [
       "<div>\n",
       "<style scoped>\n",
       "    .dataframe tbody tr th:only-of-type {\n",
       "        vertical-align: middle;\n",
       "    }\n",
       "\n",
       "    .dataframe tbody tr th {\n",
       "        vertical-align: top;\n",
       "    }\n",
       "\n",
       "    .dataframe thead th {\n",
       "        text-align: right;\n",
       "    }\n",
       "</style>\n",
       "<table border=\"1\" class=\"dataframe\">\n",
       "  <thead>\n",
       "    <tr style=\"text-align: right;\">\n",
       "      <th></th>\n",
       "      <th>Site_ID</th>\n",
       "      <th>Sensor_ID</th>\n",
       "      <th>Sensor_Dat</th>\n",
       "      <th>Confidence</th>\n",
       "      <th>Field_Vali</th>\n",
       "      <th>CampStatus</th>\n",
       "      <th>CampName</th>\n",
       "      <th>Notes</th>\n",
       "      <th>EventCode</th>\n",
       "      <th>CampType</th>\n",
       "      <th>CampTrend</th>\n",
       "      <th>Shelter_St</th>\n",
       "      <th>ShelterClo</th>\n",
       "      <th>Structure_</th>\n",
       "      <th>geometry</th>\n",
       "    </tr>\n",
       "  </thead>\n",
       "  <tbody>\n",
       "    <tr>\n",
       "      <th>0</th>\n",
       "      <td>Tent Shelter</td>\n",
       "      <td>Worldview-2</td>\n",
       "      <td>2013-12-14</td>\n",
       "      <td>Medium</td>\n",
       "      <td>Not yet field validated</td>\n",
       "      <td>Open (Operational)</td>\n",
       "      <td>Doro</td>\n",
       "      <td>None</td>\n",
       "      <td>OT20130511SSD</td>\n",
       "      <td>IDP Camp</td>\n",
       "      <td>Increase</td>\n",
       "      <td>Open</td>\n",
       "      <td>None</td>\n",
       "      <td>Tent Shelter</td>\n",
       "      <td>POINT (33.77215777000004 9.991844241000081)</td>\n",
       "    </tr>\n",
       "    <tr>\n",
       "      <th>1</th>\n",
       "      <td>Tent Shelter</td>\n",
       "      <td>Worldview-2</td>\n",
       "      <td>2013-12-14</td>\n",
       "      <td>Medium</td>\n",
       "      <td>Not yet field validated</td>\n",
       "      <td>Open (Operational)</td>\n",
       "      <td>Doro</td>\n",
       "      <td>None</td>\n",
       "      <td>OT20130511SSD</td>\n",
       "      <td>IDP Camp</td>\n",
       "      <td>Increase</td>\n",
       "      <td>Open</td>\n",
       "      <td>None</td>\n",
       "      <td>Tent Shelter</td>\n",
       "      <td>POINT (33.77183654300006 9.991680059000089)</td>\n",
       "    </tr>\n",
       "    <tr>\n",
       "      <th>2</th>\n",
       "      <td>Tent Shelter</td>\n",
       "      <td>Worldview-2</td>\n",
       "      <td>2013-12-14</td>\n",
       "      <td>Medium</td>\n",
       "      <td>Not yet field validated</td>\n",
       "      <td>Open (Operational)</td>\n",
       "      <td>Doro</td>\n",
       "      <td>None</td>\n",
       "      <td>OT20130511SSD</td>\n",
       "      <td>IDP Camp</td>\n",
       "      <td>Increase</td>\n",
       "      <td>Open</td>\n",
       "      <td>None</td>\n",
       "      <td>Tent Shelter</td>\n",
       "      <td>POINT (33.77175088200005 9.991615813000067)</td>\n",
       "    </tr>\n",
       "    <tr>\n",
       "      <th>3</th>\n",
       "      <td>Tent Shelter</td>\n",
       "      <td>Worldview-2</td>\n",
       "      <td>2013-12-14</td>\n",
       "      <td>Medium</td>\n",
       "      <td>Not yet field validated</td>\n",
       "      <td>Open (Operational)</td>\n",
       "      <td>Doro</td>\n",
       "      <td>None</td>\n",
       "      <td>OT20130511SSD</td>\n",
       "      <td>IDP Camp</td>\n",
       "      <td>Increase</td>\n",
       "      <td>Open</td>\n",
       "      <td>None</td>\n",
       "      <td>Tent Shelter</td>\n",
       "      <td>POINT (33.77142251700008 9.991722889000073)</td>\n",
       "    </tr>\n",
       "    <tr>\n",
       "      <th>4</th>\n",
       "      <td>Tent Shelter</td>\n",
       "      <td>Worldview-2</td>\n",
       "      <td>2013-12-14</td>\n",
       "      <td>Medium</td>\n",
       "      <td>Not yet field validated</td>\n",
       "      <td>Open (Operational)</td>\n",
       "      <td>Doro</td>\n",
       "      <td>None</td>\n",
       "      <td>OT20130511SSD</td>\n",
       "      <td>IDP Camp</td>\n",
       "      <td>Increase</td>\n",
       "      <td>Open</td>\n",
       "      <td>None</td>\n",
       "      <td>Tent Shelter</td>\n",
       "      <td>POINT (33.77105845900007 9.992633033000061)</td>\n",
       "    </tr>\n",
       "  </tbody>\n",
       "</table>\n",
       "</div>"
      ],
      "text/plain": [
       "        Site_ID    Sensor_ID  Sensor_Dat Confidence               Field_Vali  \\\n",
       "0  Tent Shelter  Worldview-2  2013-12-14     Medium  Not yet field validated   \n",
       "1  Tent Shelter  Worldview-2  2013-12-14     Medium  Not yet field validated   \n",
       "2  Tent Shelter  Worldview-2  2013-12-14     Medium  Not yet field validated   \n",
       "3  Tent Shelter  Worldview-2  2013-12-14     Medium  Not yet field validated   \n",
       "4  Tent Shelter  Worldview-2  2013-12-14     Medium  Not yet field validated   \n",
       "\n",
       "           CampStatus CampName Notes      EventCode  CampType CampTrend  \\\n",
       "0  Open (Operational)     Doro  None  OT20130511SSD  IDP Camp  Increase   \n",
       "1  Open (Operational)     Doro  None  OT20130511SSD  IDP Camp  Increase   \n",
       "2  Open (Operational)     Doro  None  OT20130511SSD  IDP Camp  Increase   \n",
       "3  Open (Operational)     Doro  None  OT20130511SSD  IDP Camp  Increase   \n",
       "4  Open (Operational)     Doro  None  OT20130511SSD  IDP Camp  Increase   \n",
       "\n",
       "  Shelter_St ShelterClo    Structure_  \\\n",
       "0       Open       None  Tent Shelter   \n",
       "1       Open       None  Tent Shelter   \n",
       "2       Open       None  Tent Shelter   \n",
       "3       Open       None  Tent Shelter   \n",
       "4       Open       None  Tent Shelter   \n",
       "\n",
       "                                      geometry  \n",
       "0  POINT (33.77215777000004 9.991844241000081)  \n",
       "1  POINT (33.77183654300006 9.991680059000089)  \n",
       "2  POINT (33.77175088200005 9.991615813000067)  \n",
       "3  POINT (33.77142251700008 9.991722889000073)  \n",
       "4  POINT (33.77105845900007 9.992633033000061)  "
      ]
     },
     "execution_count": 7,
     "metadata": {},
     "output_type": "execute_result"
    }
   ],
   "source": [
    "gdf.head()"
   ]
  },
  {
   "cell_type": "markdown",
   "metadata": {},
   "source": [
    "## Extract information"
   ]
  },
  {
   "cell_type": "code",
   "execution_count": 8,
   "metadata": {},
   "outputs": [],
   "source": [
    "src_ds = gdal.Open(raster) # open raster file"
   ]
  },
  {
   "cell_type": "code",
   "execution_count": 9,
   "metadata": {},
   "outputs": [],
   "source": [
    "gt = src_ds.GetGeoTransform() # get tranforms"
   ]
  },
  {
   "cell_type": "markdown",
   "metadata": {},
   "source": [
    "**Note:** Below method works when there are no rotational transformations"
   ]
  },
  {
   "cell_type": "code",
   "execution_count": 10,
   "metadata": {},
   "outputs": [],
   "source": [
    "if gt[2] != 0 or gt[4] != 0:\n",
    "    raise Exception('Warning the image has been rotated')"
   ]
  },
  {
   "cell_type": "code",
   "execution_count": 11,
   "metadata": {},
   "outputs": [],
   "source": [
    "ds = ogr.Open(shp) # open shapefile"
   ]
  },
  {
   "cell_type": "code",
   "execution_count": 12,
   "metadata": {},
   "outputs": [],
   "source": [
    "lyr = ds.GetLayer() # get the layer (here only 1)"
   ]
  },
  {
   "cell_type": "markdown",
   "metadata": {},
   "source": [
    "Loop through the different features (points) in the file and extract their pixel mapped locatation relative to the geometry of the associated raster file"
   ]
  },
  {
   "cell_type": "code",
   "execution_count": 13,
   "metadata": {},
   "outputs": [],
   "source": [
    "lsx=[]\n",
    "lsy=[]\n",
    "# here we get shelter type\n",
    "shelter = []\n",
    "for feat in lyr:\n",
    "    geom = feat.GetGeometryRef() # get geo-referenced location\n",
    "    mx, my = geom.GetX(), geom.GetY() # get overall pixel mapped geometry of raster file\n",
    "    px = int((mx - gt[0]) / gt[1]) # get x mapped pixel value\n",
    "    py = int((my - gt[3]) / gt[5]) # get y mapped pixel value\n",
    "    x = float(px) # convert to float\n",
    "    y = float(py)\n",
    "    lsx.append(x)\n",
    "    lsy.append(y)\n",
    "    shelter_type = feat.GetField(13) # the shelter type field is the 13 field (see geopandas array above)\n",
    "    shelter.append(shelter_type)"
   ]
  },
  {
   "cell_type": "markdown",
   "metadata": {},
   "source": [
    "Plot the values to make sure they make visual sense"
   ]
  },
  {
   "cell_type": "code",
   "execution_count": 15,
   "metadata": {},
   "outputs": [
    {
     "data": {
      "image/png": "[encoded data removed]",
      "text/plain": [
       "<Figure size 432x288 with 1 Axes>"
      ]
     },
     "metadata": {
      "needs_background": "light"
     },
     "output_type": "display_data"
    }
   ],
   "source": [
    "plt.scatter(lsx, lsy)\n",
    "plt.show()"
   ]
  },
  {
   "cell_type": "markdown",
   "metadata": {},
   "source": [
    "If tiling the raster file, the tile mapped coordinates of the features can be easily computed from this mapping"
   ]
  }
 ],
 "metadata": {
  "kernelspec": {
   "display_name": "Python [conda env:sat_workflow]",
   "language": "python",
   "name": "conda-env-sat_workflow-py"
  },
  "language_info": {
   "codemirror_mode": {
    "name": "ipython",
    "version": 3
   },
   "file_extension": ".py",
   "mimetype": "text/x-python",
   "name": "python",
   "nbconvert_exporter": "python",
   "pygments_lexer": "ipython3",
   "version": "3.6.8"
  }
 },
 "nbformat": 4,
 "nbformat_minor": 2
}
