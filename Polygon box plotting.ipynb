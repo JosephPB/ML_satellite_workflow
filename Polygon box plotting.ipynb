{
 "cells": [
  {
   "cell_type": "markdown",
   "metadata": {},
   "source": [
    "# Extracting polygons from shapefiles"
   ]
  },
  {
   "cell_type": "markdown",
   "metadata": {},
   "source": [
    "When dealing with polygon data in a shapefile, you may want to find the relative pixel locations of the polygons to the overall raster files. This can be done using `ogr` and the `gdal` library"
   ]
  },
  {
   "cell_type": "markdown",
   "metadata": {},
   "source": [
    "References: \n",
    "- https://automating-gis-processes.github.io/2016/Lesson2-geopandas-basics.html\n",
    "- https://software.intel.com/en-us/blogs/2017/09/08/pre-processing-geotiff-files-and-training-deepmasksharpmask-model\n"
   ]
  },
  {
   "cell_type": "code",
   "execution_count": 1,
   "metadata": {},
   "outputs": [],
   "source": [
    "from osgeo import gdal,ogr\n",
    "import matplotlib.pyplot as plt\n",
    "import numpy as np\n",
    "import geopandas as gpd\n",
    "import fiona\n",
    "import rasterio\n",
    "import rasterio.plot"
   ]
  },
  {
   "cell_type": "code",
   "execution_count": 2,
   "metadata": {},
   "outputs": [],
   "source": [
    "shp = '/efs/data/jpb/data/tiles/raw_data/polygons/Dagahaley_Structures/Dagahaley_Structures.shp'\n",
    "raster = '/efs/data/jpb/data/tiles/raw_data/images/Dana_IDPs_20190606.tif'"
   ]
  },
  {
   "cell_type": "markdown",
   "metadata": {},
   "source": [
    "## Initial overview"
   ]
  },
  {
   "cell_type": "code",
   "execution_count": 3,
   "metadata": {},
   "outputs": [
    {
     "data": {
      "text/plain": [
       "{'init': 'epsg:4326'}"
      ]
     },
     "execution_count": 3,
     "metadata": {},
     "output_type": "execute_result"
    }
   ],
   "source": [
    "gdf = gpd.read_file(shp)\n",
    "gdf.crs"
   ]
  },
  {
   "cell_type": "code",
   "execution_count": 4,
   "metadata": {},
   "outputs": [
    {
     "data": {
      "text/plain": [
       "CRS({'init': 'epsg:3857'})"
      ]
     },
     "execution_count": 4,
     "metadata": {},
     "output_type": "execute_result"
    }
   ],
   "source": [
    "src = rasterio.open(raster)\n",
    "src.crs"
   ]
  },
  {
   "cell_type": "markdown",
   "metadata": {},
   "source": [
    "**Note:** CRS are different -> convert shapefile"
   ]
  },
  {
   "cell_type": "code",
   "execution_count": 5,
   "metadata": {},
   "outputs": [],
   "source": [
    "gdf_new = gdf.to_crs({'init': 'epsg:3857'})"
   ]
  },
  {
   "cell_type": "code",
   "execution_count": 6,
   "metadata": {},
   "outputs": [
    {
     "data": {
      "text/html": [
       "<div>\n",
       "<style scoped>\n",
       "    .dataframe tbody tr th:only-of-type {\n",
       "        vertical-align: middle;\n",
       "    }\n",
       "\n",
       "    .dataframe tbody tr th {\n",
       "        vertical-align: top;\n",
       "    }\n",
       "\n",
       "    .dataframe thead th {\n",
       "        text-align: right;\n",
       "    }\n",
       "</style>\n",
       "<table border=\"1\" class=\"dataframe\">\n",
       "  <thead>\n",
       "    <tr style=\"text-align: right;\">\n",
       "      <th></th>\n",
       "      <th>TYPE</th>\n",
       "      <th>geometry</th>\n",
       "    </tr>\n",
       "  </thead>\n",
       "  <tbody>\n",
       "    <tr>\n",
       "      <th>0</th>\n",
       "      <td>Structure</td>\n",
       "      <td>POLYGON ((4483985.803323007 20876.20940667135,...</td>\n",
       "    </tr>\n",
       "    <tr>\n",
       "      <th>1</th>\n",
       "      <td>Structure</td>\n",
       "      <td>POLYGON ((4483986.928985697 20877.51597052965,...</td>\n",
       "    </tr>\n",
       "    <tr>\n",
       "      <th>2</th>\n",
       "      <td>Structure</td>\n",
       "      <td>POLYGON ((4483980.933651878 20824.10236704085,...</td>\n",
       "    </tr>\n",
       "    <tr>\n",
       "      <th>3</th>\n",
       "      <td>Structure</td>\n",
       "      <td>POLYGON ((4483982.258131184 20819.73182922421,...</td>\n",
       "    </tr>\n",
       "    <tr>\n",
       "      <th>4</th>\n",
       "      <td>Structure</td>\n",
       "      <td>POLYGON ((4483968.629953837 20850.41832378297,...</td>\n",
       "    </tr>\n",
       "  </tbody>\n",
       "</table>\n",
       "</div>"
      ],
      "text/plain": [
       "        TYPE                                           geometry\n",
       "0  Structure  POLYGON ((4483985.803323007 20876.20940667135,...\n",
       "1  Structure  POLYGON ((4483986.928985697 20877.51597052965,...\n",
       "2  Structure  POLYGON ((4483980.933651878 20824.10236704085,...\n",
       "3  Structure  POLYGON ((4483982.258131184 20819.73182922421,...\n",
       "4  Structure  POLYGON ((4483968.629953837 20850.41832378297,..."
      ]
     },
     "execution_count": 6,
     "metadata": {},
     "output_type": "execute_result"
    }
   ],
   "source": [
    "gdf_new.head()"
   ]
  },
  {
   "cell_type": "markdown",
   "metadata": {},
   "source": [
    "## Extract information"
   ]
  },
  {
   "cell_type": "code",
   "execution_count": 7,
   "metadata": {},
   "outputs": [],
   "source": [
    "errors = []\n",
    "g = gdf_new['geometry']\n",
    "all_coords = []\n",
    "for j in range(len(g)):\n",
    "    coord = []\n",
    "    try:\n",
    "        \"Handling of polygons\"\n",
    "        for i in g[j].boundary.coords:\n",
    "            coord.append(i)\n",
    "    except:\n",
    "        \"Handling of multipolygons\"\n",
    "        for i in g[j].boundary:\n",
    "            for k in i.coords:\n",
    "                coord.append(k)\n",
    "        errors.append(j)\n",
    "    all_coords.append(coord)"
   ]
  },
  {
   "cell_type": "code",
   "execution_count": 8,
   "metadata": {},
   "outputs": [
    {
     "data": {
      "text/plain": [
       "[16846, 17480, 17534, 19100, 19284, 19318, 19363, 20195, 21482]"
      ]
     },
     "execution_count": 8,
     "metadata": {},
     "output_type": "execute_result"
    }
   ],
   "source": [
    "errors"
   ]
  },
  {
   "cell_type": "code",
   "execution_count": 2,
   "metadata": {},
   "outputs": [],
   "source": [
    "def world2Pixel(geoMatrix, x, y):\n",
    "    \"\"\"\n",
    "    Uses a gdal geomatrix (.transform) to calculate\n",
    "    the pixel location of a geospatial coordinate\n",
    "    \"\"\"\n",
    "    ulX = geoMatrix[2]\n",
    "    ulY = geoMatrix[5]\n",
    "    xDist = geoMatrix[0]\n",
    "    yDist = geoMatrix[4]\n",
    "    rtnX = geoMatrix[1]\n",
    "    rtnY = geoMatrix[3]\n",
    "    pixel = int((x - ulX) / xDist)\n",
    "    line = int((ulY - y) / xDist)\n",
    "    return (pixel, line)"
   ]
  },
  {
   "cell_type": "code",
   "execution_count": 3,
   "metadata": {},
   "outputs": [
    {
     "ename": "NameError",
     "evalue": "name 'src' is not defined",
     "output_type": "error",
     "traceback": [
      "\u001b[0;31m---------------------------------------------------------------------------\u001b[0m",
      "\u001b[0;31mNameError\u001b[0m                                 Traceback (most recent call last)",
      "\u001b[0;32m<ipython-input-3-211d357efe1e>\u001b[0m in \u001b[0;36m<module>\u001b[0;34m\u001b[0m\n\u001b[0;32m----> 1\u001b[0;31m \u001b[0mgt\u001b[0m \u001b[0;34m=\u001b[0m \u001b[0msrc\u001b[0m\u001b[0;34m.\u001b[0m\u001b[0mtransform\u001b[0m\u001b[0;34m\u001b[0m\u001b[0;34m\u001b[0m\u001b[0m\n\u001b[0m",
      "\u001b[0;31mNameError\u001b[0m: name 'src' is not defined"
     ]
    }
   ],
   "source": [
    "gt = src.transform"
   ]
  },
  {
   "cell_type": "code",
   "execution_count": 11,
   "metadata": {},
   "outputs": [],
   "source": [
    "pixel_coords = []\n",
    "for i in all_coords:\n",
    "    coords = []\n",
    "    for j in i:\n",
    "        coords.append(world2Pixel(gt,j[0],j[1]))\n",
    "    pixel_coords.append(coords)"
   ]
  },
  {
   "cell_type": "code",
   "execution_count": 12,
   "metadata": {},
   "outputs": [],
   "source": [
    "pc = np.array(pixel_coords)"
   ]
  },
  {
   "cell_type": "code",
   "execution_count": 13,
   "metadata": {},
   "outputs": [
    {
     "data": {
      "text/plain": [
       "(31507,)"
      ]
     },
     "execution_count": 13,
     "metadata": {},
     "output_type": "execute_result"
    }
   ],
   "source": [
    "pc.shape"
   ]
  },
  {
   "cell_type": "code",
   "execution_count": 17,
   "metadata": {},
   "outputs": [
    {
     "data": {
      "text/plain": [
       "[(850341, 9196480),\n",
       " (850347, 9196483),\n",
       " (850348, 9196484),\n",
       " (850344, 9196490),\n",
       " (850336, 9196485),\n",
       " (850339, 9196479),\n",
       " (850341, 9196480)]"
      ]
     },
     "execution_count": 17,
     "metadata": {},
     "output_type": "execute_result"
    }
   ],
   "source": [
    "pc[10]"
   ]
  },
  {
   "cell_type": "code",
   "execution_count": null,
   "metadata": {},
   "outputs": [],
   "source": []
  }
 ],
 "metadata": {
  "kernelspec": {
   "display_name": "Python [conda env:sat_workflow]",
   "language": "python",
   "name": "conda-env-sat_workflow-py"
  },
  "language_info": {
   "codemirror_mode": {
    "name": "ipython",
    "version": 3
   },
   "file_extension": ".py",
   "mimetype": "text/x-python",
   "name": "python",
   "nbconvert_exporter": "python",
   "pygments_lexer": "ipython3",
   "version": "3.6.8"
  }
 },
 "nbformat": 4,
 "nbformat_minor": 2
}
