{
 "cells": [
  {
   "cell_type": "code",
   "execution_count": 1,
   "metadata": {},
   "outputs": [],
   "source": [
    "import matplotlib.pyplot as plt\n",
    "import numpy as np\n",
    "import rasterio\n",
    "import rasterio.plot\n",
    "import math\n",
    "import matplotlib.patches as patches\n",
    "import cv2 as cv\n",
    "import pandas as pd\n",
    "import json"
   ]
  },
  {
   "cell_type": "code",
   "execution_count": 2,
   "metadata": {},
   "outputs": [],
   "source": [
    "image_dir = '/efs/data/jpb/data/tiles/Dagahaley/images/'\n",
    "anno_dir = '/efs/data/jpb/data/tiles/Dagahaley/annotations/'\n",
    "coco_dir = '/efs/data/jpb/data/tiles/Dagahaley/cocoannotations/'"
   ]
  },
  {
   "cell_type": "code",
   "execution_count": 3,
   "metadata": {},
   "outputs": [],
   "source": [
    "annos = pd.read_csv(anno_dir + 'annotations.csv')"
   ]
  },
  {
   "cell_type": "code",
   "execution_count": 5,
   "metadata": {},
   "outputs": [
    {
     "data": {
      "text/html": [
       "<div>\n",
       "<style scoped>\n",
       "    .dataframe tbody tr th:only-of-type {\n",
       "        vertical-align: middle;\n",
       "    }\n",
       "\n",
       "    .dataframe tbody tr th {\n",
       "        vertical-align: top;\n",
       "    }\n",
       "\n",
       "    .dataframe thead th {\n",
       "        text-align: right;\n",
       "    }\n",
       "</style>\n",
       "<table border=\"1\" class=\"dataframe\">\n",
       "  <thead>\n",
       "    <tr style=\"text-align: right;\">\n",
       "      <th></th>\n",
       "      <th>Unnamed: 0</th>\n",
       "      <th>filename</th>\n",
       "      <th>xmin</th>\n",
       "      <th>ymin</th>\n",
       "      <th>width</th>\n",
       "      <th>height</th>\n",
       "    </tr>\n",
       "  </thead>\n",
       "  <tbody>\n",
       "    <tr>\n",
       "      <th>0</th>\n",
       "      <td>0</td>\n",
       "      <td>dagahaley-x900y6000.png</td>\n",
       "      <td>273</td>\n",
       "      <td>281</td>\n",
       "      <td>9</td>\n",
       "      <td>10</td>\n",
       "    </tr>\n",
       "    <tr>\n",
       "      <th>1</th>\n",
       "      <td>1</td>\n",
       "      <td>dagahaley-x900y6000.png</td>\n",
       "      <td>290</td>\n",
       "      <td>245</td>\n",
       "      <td>9</td>\n",
       "      <td>9</td>\n",
       "    </tr>\n",
       "    <tr>\n",
       "      <th>2</th>\n",
       "      <td>2</td>\n",
       "      <td>dagahaley-x900y6300.png</td>\n",
       "      <td>47</td>\n",
       "      <td>284</td>\n",
       "      <td>9</td>\n",
       "      <td>9</td>\n",
       "    </tr>\n",
       "    <tr>\n",
       "      <th>3</th>\n",
       "      <td>3</td>\n",
       "      <td>dagahaley-x900y6300.png</td>\n",
       "      <td>101</td>\n",
       "      <td>275</td>\n",
       "      <td>13</td>\n",
       "      <td>14</td>\n",
       "    </tr>\n",
       "    <tr>\n",
       "      <th>4</th>\n",
       "      <td>4</td>\n",
       "      <td>dagahaley-x900y6300.png</td>\n",
       "      <td>135</td>\n",
       "      <td>252</td>\n",
       "      <td>10</td>\n",
       "      <td>11</td>\n",
       "    </tr>\n",
       "  </tbody>\n",
       "</table>\n",
       "</div>"
      ],
      "text/plain": [
       "   Unnamed: 0                 filename  xmin  ymin  width  height\n",
       "0           0  dagahaley-x900y6000.png   273   281      9      10\n",
       "1           1  dagahaley-x900y6000.png   290   245      9       9\n",
       "2           2  dagahaley-x900y6300.png    47   284      9       9\n",
       "3           3  dagahaley-x900y6300.png   101   275     13      14\n",
       "4           4  dagahaley-x900y6300.png   135   252     10      11"
      ]
     },
     "execution_count": 5,
     "metadata": {},
     "output_type": "execute_result"
    }
   ],
   "source": [
    "annos.head()"
   ]
  },
  {
   "cell_type": "code",
   "execution_count": 6,
   "metadata": {},
   "outputs": [],
   "source": [
    "filenames = np.unique(annos['filename'])"
   ]
  },
  {
   "cell_type": "code",
   "execution_count": 27,
   "metadata": {},
   "outputs": [],
   "source": [
    "np.random.shuffle(filenames)"
   ]
  },
  {
   "cell_type": "code",
   "execution_count": 29,
   "metadata": {},
   "outputs": [],
   "source": [
    "train_filenames = filenames[:int(0.8*len(filenames))]\n",
    "val_filenames = filenames[int(0.8*len(filenames)):]"
   ]
  },
  {
   "cell_type": "code",
   "execution_count": null,
   "metadata": {},
   "outputs": [],
   "source": [
    "width,height = 300,300"
   ]
  },
  {
   "cell_type": "code",
   "execution_count": 31,
   "metadata": {},
   "outputs": [],
   "source": [
    "def create_coco_file(filenames, width, height, outname):\n",
    "\n",
    "    adaptation_data = {}\n",
    "    for file in filenames:\n",
    "        test_annos = annos[annos['filename'] == file].reset_index()\n",
    "        bboxes = []\n",
    "        for i in range(len(test_annos)):\n",
    "            bboxes.append([int(test_annos['xmin'][i]), int(test_annos['ymin'][i]), int(test_annos['width'][i]), int(test_annos['height'][i])])\n",
    "        adaptation_data['{}'.format(file)]=bboxes\n",
    "    \n",
    "    # To prepare this in COCO format, we have to first enumerate all the files in the adaptation data\n",
    "    file_ids = {}\n",
    "    file_id = 1\n",
    "    images = []\n",
    "    for fname in adaptation_data.keys():\n",
    "        images.append({'file_name':fname,'coco_url':'','flickr_url':'','date_captured':'',\n",
    "                      'height':height,'width':width,'license':1,'id':file_id})\n",
    "        file_ids[fname] = file_id\n",
    "        file_id += 1\n",
    "    images = pd.DataFrame(images).to_dict(orient='records')\n",
    "    \n",
    "    # Now make a record for each bounding box\n",
    "    annotations = []\n",
    "    object_id = 1\n",
    "    for fname in adaptation_data:\n",
    "        for bbox in adaptation_data[fname]:\n",
    "            annotations.append({'id': object_id, \n",
    "             'image_id': file_ids[fname], \n",
    "             'area': bbox[2]*bbox[3], \n",
    "             'bbox': bbox, \n",
    "             'category_id': 1, \n",
    "             'iscrowd': 0, \n",
    "             'segmentation': []})\n",
    "            \n",
    "    # Other metadata that makes up the COCO annotation format    \n",
    "    license = [{'id': 1,\n",
    "                'name': 'DigitalGlobe/NextView/UNOSAT',\n",
    "                'url': ''}]\n",
    "    \n",
    "    datainfo = {'contributor': 'UNOSAT/UN Global Pulse',\n",
    "     'date_created': '2018/06/20',\n",
    "     'description': 'UNOSAT Refugee Settlements Dataset',\n",
    "     'url': 'http://unitar.org/unosat/',\n",
    "     'version': '1.0',\n",
    "     'year': 2018}\n",
    "    \n",
    "    categories = [{'id': 1, 'name': 'structure', 'supercategory': 'structure'}]\n",
    "    \n",
    "    # Now save to a new annotation file\n",
    "    dataset = {'info': datainfo,\n",
    "               'licenses': license,\n",
    "               'categories': categories,\n",
    "               'images': images,\n",
    "               'annotations': annotations\n",
    "              }\n",
    "    \n",
    "    with open(coco_dir + '{}.json'.format(outname),'w') as outfile:\n",
    "        json.dump(dataset,outfile)"
   ]
  },
  {
   "cell_type": "code",
   "execution_count": 32,
   "metadata": {},
   "outputs": [],
   "source": [
    "create_coco_file(train_filenames,width,height,'dagahaley_train')"
   ]
  },
  {
   "cell_type": "code",
   "execution_count": 33,
   "metadata": {},
   "outputs": [],
   "source": [
    "create_coco_file(val_filenames,width,height,'dagahaley_val')"
   ]
  }
 ],
 "metadata": {
  "kernelspec": {
   "display_name": "Python 3",
   "language": "python",
   "name": "python3"
  },
  "language_info": {
   "codemirror_mode": {
    "name": "ipython",
    "version": 3
   },
   "file_extension": ".py",
   "mimetype": "text/x-python",
   "name": "python",
   "nbconvert_exporter": "python",
   "pygments_lexer": "ipython3",
   "version": "3.6.8"
  }
 },
 "nbformat": 4,
 "nbformat_minor": 2
}
