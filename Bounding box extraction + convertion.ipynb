{
 "cells": [
  {
   "cell_type": "markdown",
   "metadata": {},
   "source": [
    "# Extracting polygons from shapefiles"
   ]
  },
  {
   "cell_type": "markdown",
   "metadata": {},
   "source": [
    "When dealing with polygon data in a shapefile, you may want to find the relative pixel locations of the polygons to the overall raster files. This can be done using `ogr` and the `gdal` library"
   ]
  },
  {
   "cell_type": "markdown",
   "metadata": {},
   "source": [
    "References: \n",
    "- https://automating-gis-processes.github.io/2016/Lesson2-geopandas-basics.html\n",
    "- https://software.intel.com/en-us/blogs/2017/09/08/pre-processing-geotiff-files-and-training-deepmasksharpmask-model\n"
   ]
  },
  {
   "cell_type": "code",
   "execution_count": 3,
   "metadata": {},
   "outputs": [],
   "source": [
    "from osgeo import gdal,ogr\n",
    "import matplotlib.pyplot as plt\n",
    "import numpy as np\n",
    "import geopandas as gpd\n",
    "import fiona\n",
    "import rasterio\n",
    "import rasterio.plot"
   ]
  },
  {
   "cell_type": "code",
   "execution_count": 4,
   "metadata": {},
   "outputs": [],
   "source": [
    "shp = '/efs/data/jpb/data/tiles/raw_data/bboxes/IDP_Dana_BufferSquare2.shp'\n",
    "raster = '/efs/data/jpb/data/tiles/raw_data/images/Dana_IDPs_20190606.tif'"
   ]
  },
  {
   "cell_type": "markdown",
   "metadata": {},
   "source": [
    "## Initial overview"
   ]
  },
  {
   "cell_type": "code",
   "execution_count": 5,
   "metadata": {},
   "outputs": [],
   "source": [
    "gdf = gpd.read_file(shp)"
   ]
  },
  {
   "cell_type": "code",
   "execution_count": 7,
   "metadata": {},
   "outputs": [
    {
     "data": {
      "text/plain": [
       "{'init': 'epsg:4326'}"
      ]
     },
     "execution_count": 7,
     "metadata": {},
     "output_type": "execute_result"
    }
   ],
   "source": [
    "gdf.crs"
   ]
  },
  {
   "cell_type": "code",
   "execution_count": 68,
   "metadata": {},
   "outputs": [],
   "source": [
    "src = rasterio.open(raster)"
   ]
  },
  {
   "cell_type": "code",
   "execution_count": 69,
   "metadata": {},
   "outputs": [
    {
     "data": {
      "text/plain": [
       "CRS({'init': 'epsg:3857'})"
      ]
     },
     "execution_count": 69,
     "metadata": {},
     "output_type": "execute_result"
    }
   ],
   "source": [
    "src.crs"
   ]
  },
  {
   "cell_type": "markdown",
   "metadata": {},
   "source": [
    "**Note:** CRS are different -> convert shapefile"
   ]
  },
  {
   "cell_type": "code",
   "execution_count": 70,
   "metadata": {},
   "outputs": [],
   "source": [
    "gdf_new = gdf.to_crs({'init': 'epsg:3857'})"
   ]
  },
  {
   "cell_type": "code",
   "execution_count": 71,
   "metadata": {},
   "outputs": [
    {
     "data": {
      "text/html": [
       "<div>\n",
       "<style scoped>\n",
       "    .dataframe tbody tr th:only-of-type {\n",
       "        vertical-align: middle;\n",
       "    }\n",
       "\n",
       "    .dataframe tbody tr th {\n",
       "        vertical-align: top;\n",
       "    }\n",
       "\n",
       "    .dataframe thead th {\n",
       "        text-align: right;\n",
       "    }\n",
       "</style>\n",
       "<table border=\"1\" class=\"dataframe\">\n",
       "  <thead>\n",
       "    <tr style=\"text-align: right;\">\n",
       "      <th></th>\n",
       "      <th>Site_ID</th>\n",
       "      <th>Sensor_ID</th>\n",
       "      <th>Sensor_Dat</th>\n",
       "      <th>Confidence</th>\n",
       "      <th>Field_Vali</th>\n",
       "      <th>CampStatus</th>\n",
       "      <th>CampName</th>\n",
       "      <th>Notes</th>\n",
       "      <th>GlobalID</th>\n",
       "      <th>StaffID</th>\n",
       "      <th>EventCode</th>\n",
       "      <th>CampType</th>\n",
       "      <th>CampTrend</th>\n",
       "      <th>Shelter_St</th>\n",
       "      <th>ShelterClo</th>\n",
       "      <th>Structure_</th>\n",
       "      <th>BUFF_DIST</th>\n",
       "      <th>ORIG_FID</th>\n",
       "      <th>geometry</th>\n",
       "    </tr>\n",
       "  </thead>\n",
       "  <tbody>\n",
       "    <tr>\n",
       "      <th>0</th>\n",
       "      <td>1</td>\n",
       "      <td>2</td>\n",
       "      <td>2019-06-06</td>\n",
       "      <td>2</td>\n",
       "      <td>0</td>\n",
       "      <td>1</td>\n",
       "      <td>Qah and Liyajlikum</td>\n",
       "      <td>None</td>\n",
       "      <td>{C5E9E5C8-1E7B-453D-930F-2259C98A5E7D}</td>\n",
       "      <td>141</td>\n",
       "      <td>CE20130604SYR</td>\n",
       "      <td>2</td>\n",
       "      <td>0</td>\n",
       "      <td>1</td>\n",
       "      <td>None</td>\n",
       "      <td>1</td>\n",
       "      <td>4.0</td>\n",
       "      <td>0</td>\n",
       "      <td>POLYGON ((4084739.724123693 4341406.058858634,...</td>\n",
       "    </tr>\n",
       "    <tr>\n",
       "      <th>1</th>\n",
       "      <td>1</td>\n",
       "      <td>2</td>\n",
       "      <td>2019-06-06</td>\n",
       "      <td>2</td>\n",
       "      <td>0</td>\n",
       "      <td>1</td>\n",
       "      <td>Qah and Liyajlikum</td>\n",
       "      <td>None</td>\n",
       "      <td>{F55B75B7-0760-4842-9CED-2FAA5CD20282}</td>\n",
       "      <td>141</td>\n",
       "      <td>CE20130604SYR</td>\n",
       "      <td>2</td>\n",
       "      <td>0</td>\n",
       "      <td>1</td>\n",
       "      <td>None</td>\n",
       "      <td>1</td>\n",
       "      <td>4.0</td>\n",
       "      <td>1</td>\n",
       "      <td>POLYGON ((4084741.311645375 4341418.229725038,...</td>\n",
       "    </tr>\n",
       "    <tr>\n",
       "      <th>2</th>\n",
       "      <td>1</td>\n",
       "      <td>2</td>\n",
       "      <td>2019-06-06</td>\n",
       "      <td>2</td>\n",
       "      <td>0</td>\n",
       "      <td>1</td>\n",
       "      <td>Qah and Liyajlikum</td>\n",
       "      <td>None</td>\n",
       "      <td>{54308900-2511-4327-BFD5-F633A68D37AE}</td>\n",
       "      <td>141</td>\n",
       "      <td>CE20130604SYR</td>\n",
       "      <td>2</td>\n",
       "      <td>0</td>\n",
       "      <td>1</td>\n",
       "      <td>None</td>\n",
       "      <td>1</td>\n",
       "      <td>4.0</td>\n",
       "      <td>2</td>\n",
       "      <td>POLYGON ((4084723.981430853 4341409.895375458,...</td>\n",
       "    </tr>\n",
       "    <tr>\n",
       "      <th>3</th>\n",
       "      <td>1</td>\n",
       "      <td>2</td>\n",
       "      <td>2019-06-06</td>\n",
       "      <td>2</td>\n",
       "      <td>0</td>\n",
       "      <td>1</td>\n",
       "      <td>Qah and Liyajlikum</td>\n",
       "      <td>None</td>\n",
       "      <td>{434915B8-378F-4DA4-896A-C9AC3CAB575F}</td>\n",
       "      <td>141</td>\n",
       "      <td>CE20130604SYR</td>\n",
       "      <td>2</td>\n",
       "      <td>0</td>\n",
       "      <td>1</td>\n",
       "      <td>None</td>\n",
       "      <td>1</td>\n",
       "      <td>4.0</td>\n",
       "      <td>3</td>\n",
       "      <td>POLYGON ((4084725.436593543 4341422.330881506,...</td>\n",
       "    </tr>\n",
       "    <tr>\n",
       "      <th>4</th>\n",
       "      <td>1</td>\n",
       "      <td>2</td>\n",
       "      <td>2019-06-06</td>\n",
       "      <td>2</td>\n",
       "      <td>0</td>\n",
       "      <td>1</td>\n",
       "      <td>Qah and Liyajlikum</td>\n",
       "      <td>None</td>\n",
       "      <td>{901A00F0-ECC7-46BF-B6D1-A5AE521F03CB}</td>\n",
       "      <td>141</td>\n",
       "      <td>CE20130604SYR</td>\n",
       "      <td>2</td>\n",
       "      <td>0</td>\n",
       "      <td>1</td>\n",
       "      <td>None</td>\n",
       "      <td>1</td>\n",
       "      <td>4.0</td>\n",
       "      <td>4</td>\n",
       "      <td>POLYGON ((4084730.728400237 4341396.004807143,...</td>\n",
       "    </tr>\n",
       "  </tbody>\n",
       "</table>\n",
       "</div>"
      ],
      "text/plain": [
       "   Site_ID  Sensor_ID  Sensor_Dat  Confidence  Field_Vali  CampStatus  \\\n",
       "0        1          2  2019-06-06           2           0           1   \n",
       "1        1          2  2019-06-06           2           0           1   \n",
       "2        1          2  2019-06-06           2           0           1   \n",
       "3        1          2  2019-06-06           2           0           1   \n",
       "4        1          2  2019-06-06           2           0           1   \n",
       "\n",
       "             CampName Notes                                GlobalID  StaffID  \\\n",
       "0  Qah and Liyajlikum  None  {C5E9E5C8-1E7B-453D-930F-2259C98A5E7D}      141   \n",
       "1  Qah and Liyajlikum  None  {F55B75B7-0760-4842-9CED-2FAA5CD20282}      141   \n",
       "2  Qah and Liyajlikum  None  {54308900-2511-4327-BFD5-F633A68D37AE}      141   \n",
       "3  Qah and Liyajlikum  None  {434915B8-378F-4DA4-896A-C9AC3CAB575F}      141   \n",
       "4  Qah and Liyajlikum  None  {901A00F0-ECC7-46BF-B6D1-A5AE521F03CB}      141   \n",
       "\n",
       "       EventCode  CampType  CampTrend  Shelter_St ShelterClo  Structure_  \\\n",
       "0  CE20130604SYR         2          0           1       None           1   \n",
       "1  CE20130604SYR         2          0           1       None           1   \n",
       "2  CE20130604SYR         2          0           1       None           1   \n",
       "3  CE20130604SYR         2          0           1       None           1   \n",
       "4  CE20130604SYR         2          0           1       None           1   \n",
       "\n",
       "   BUFF_DIST  ORIG_FID                                           geometry  \n",
       "0        4.0         0  POLYGON ((4084739.724123693 4341406.058858634,...  \n",
       "1        4.0         1  POLYGON ((4084741.311645375 4341418.229725038,...  \n",
       "2        4.0         2  POLYGON ((4084723.981430853 4341409.895375458,...  \n",
       "3        4.0         3  POLYGON ((4084725.436593543 4341422.330881506,...  \n",
       "4        4.0         4  POLYGON ((4084730.728400237 4341396.004807143,...  "
      ]
     },
     "execution_count": 71,
     "metadata": {},
     "output_type": "execute_result"
    }
   ],
   "source": [
    "gdf_new.head()"
   ]
  },
  {
   "cell_type": "markdown",
   "metadata": {},
   "source": [
    "## Extract information"
   ]
  },
  {
   "cell_type": "code",
   "execution_count": 77,
   "metadata": {},
   "outputs": [],
   "source": [
    "g = gdf_new['geometry']\n",
    "all_coords = []\n",
    "for j in range(len(g)):\n",
    "    coord = []\n",
    "    for i in g[j].boundary.coords:\n",
    "        coord.append(i)\n",
    "    all_coords.append(coord)"
   ]
  },
  {
   "cell_type": "code",
   "execution_count": 112,
   "metadata": {},
   "outputs": [],
   "source": [
    "def world2Pixel(geoMatrix, x, y):\n",
    "    \"\"\"\n",
    "    Uses a gdal geomatrix (.transform) to calculate\n",
    "    the pixel location of a geospatial coordinate\n",
    "    \"\"\"\n",
    "    ulX = geoMatrix[2]\n",
    "    ulY = geoMatrix[5]\n",
    "    xDist = geoMatrix[0]\n",
    "    yDist = geoMatrix[4]\n",
    "    rtnX = geoMatrix[1]\n",
    "    rtnY = geoMatrix[3]\n",
    "    pixel = int((x - ulX) / xDist)\n",
    "    line = int((ulY - y) / xDist)\n",
    "    return (pixel, line)"
   ]
  },
  {
   "cell_type": "code",
   "execution_count": 115,
   "metadata": {},
   "outputs": [],
   "source": [
    "gt = src.transform"
   ]
  },
  {
   "cell_type": "code",
   "execution_count": 116,
   "metadata": {},
   "outputs": [],
   "source": [
    "pixel_coords = []\n",
    "for i in all_coords:\n",
    "    coords = []\n",
    "    for j in i:\n",
    "        coords.append(world2Pixel(gt,j[0],j[1]))\n",
    "    pixel_coords.append(coords)"
   ]
  },
  {
   "cell_type": "code",
   "execution_count": 118,
   "metadata": {},
   "outputs": [],
   "source": [
    "pc = np.array(pixel_coords)"
   ]
  },
  {
   "cell_type": "code",
   "execution_count": 127,
   "metadata": {},
   "outputs": [
    {
     "data": {
      "text/plain": [
       "(14623, 5, 2)"
      ]
     },
     "execution_count": 127,
     "metadata": {},
     "output_type": "execute_result"
    }
   ],
   "source": [
    "pc.shape"
   ]
  },
  {
   "cell_type": "code",
   "execution_count": 125,
   "metadata": {},
   "outputs": [
    {
     "data": {
      "text/plain": [
       "[<matplotlib.lines.Line2D at 0x7fa9cea5ff28>]"
      ]
     },
     "execution_count": 125,
     "metadata": {},
     "output_type": "execute_result"
    },
    {
     "data": {
      "image/png": "[encoded data removed]",
      "text/plain": [
       "<Figure size 432x288 with 1 Axes>"
      ]
     },
     "metadata": {
      "needs_background": "light"
     },
     "output_type": "display_data"
    }
   ],
   "source": [
    "plt.plot(pc[0,:,0],pc[0,:,1])"
   ]
  },
  {
   "cell_type": "markdown",
   "metadata": {},
   "source": [
    "# OLD GDAL METHODS"
   ]
  },
  {
   "cell_type": "code",
   "execution_count": 8,
   "metadata": {},
   "outputs": [],
   "source": [
    "ds = ogr.Open(shp)"
   ]
  },
  {
   "cell_type": "code",
   "execution_count": 9,
   "metadata": {},
   "outputs": [],
   "source": [
    "lyr = ds.GetLayer()"
   ]
  },
  {
   "cell_type": "code",
   "execution_count": 10,
   "metadata": {},
   "outputs": [],
   "source": [
    "lsx=[]\n",
    "lsy=[]\n",
    "# here we get shelter type\n",
    "shelter = []\n",
    "for feat in lyr:\n",
    "    geom = feat.GetGeometryRef() # get geo-referenced location\n",
    "    pts = geom.GetGeometryRef(0)\n",
    "    px = []\n",
    "    py = []\n",
    "    for i in range(pts.GetPointCount()):\n",
    "        px.append(pts.GetX(i))\n",
    "        py.append(pts.GetY(i))\n",
    "    lsx.append(px[:-1]) # remove first point due to these boxes having 5 points\n",
    "    lsy.append(py[:-1])"
   ]
  },
  {
   "cell_type": "markdown",
   "metadata": {},
   "source": [
    "Check bounding box shapes"
   ]
  },
  {
   "cell_type": "code",
   "execution_count": 11,
   "metadata": {},
   "outputs": [
    {
     "data": {
      "image/png": "[encoded data removed]",
      "text/plain": [
       "<Figure size 432x288 with 1 Axes>"
      ]
     },
     "metadata": {
      "needs_background": "light"
     },
     "output_type": "display_data"
    }
   ],
   "source": [
    "plt.scatter(np.array(lsx[1])*100, np.array(lsy[1])*100)\n",
    "plt.show()"
   ]
  }
 ],
 "metadata": {
  "kernelspec": {
   "display_name": "Python [conda env:sat_workflow]",
   "language": "python",
   "name": "conda-env-sat_workflow-py"
  },
  "language_info": {
   "codemirror_mode": {
    "name": "ipython",
    "version": 3
   },
   "file_extension": ".py",
   "mimetype": "text/x-python",
   "name": "python",
   "nbconvert_exporter": "python",
   "pygments_lexer": "ipython3",
   "version": "3.6.8"
  }
 },
 "nbformat": 4,
 "nbformat_minor": 2
}
